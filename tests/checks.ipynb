{
 "cells": [
  {
   "cell_type": "code",
   "execution_count": 2,
   "metadata": {},
   "outputs": [],
   "source": [
    "import requests"
   ]
  },
  {
   "cell_type": "markdown",
   "metadata": {},
   "source": [
    "### Try executing template1"
   ]
  },
  {
   "cell_type": "code",
   "execution_count": 4,
   "metadata": {},
   "outputs": [
    {
     "data": {
      "text/plain": [
       "{'task_id': '1d64c343-0341-44bd-8e14-382189012279'}"
      ]
     },
     "execution_count": 4,
     "metadata": {},
     "output_type": "execute_result"
    }
   ],
   "source": [
    "job_params = {\n",
    "    'name': 'value',\n",
    "    'description': 'value',\n",
    "    'param1': 20,\n",
    "    'param2': 10,\n",
    "}\n",
    "\n",
    "params = {\n",
    "    'template_name': 'template1',\n",
    "    'job_request_data': job_params,\n",
    "}\n",
    "\n",
    "r = requests.post('http://localhost:8000/execute-job', json=params)\n",
    "r.json()"
   ]
  },
  {
   "cell_type": "markdown",
   "metadata": {},
   "source": [
    "### Try executing template2"
   ]
  },
  {
   "cell_type": "code",
   "execution_count": 6,
   "metadata": {},
   "outputs": [
    {
     "data": {
      "text/plain": [
       "{'task_id': 'd30fa8c7-b5de-4909-8b9c-2106be3c7a95'}"
      ]
     },
     "execution_count": 6,
     "metadata": {},
     "output_type": "execute_result"
    }
   ],
   "source": [
    "job_params = {\n",
    "    'name': 'value',\n",
    "    'description': 'value',\n",
    "    'param1': 20,\n",
    "    'param2': 10,\n",
    "}\n",
    "\n",
    "params = {\n",
    "    'template_name': 'template2',\n",
    "    'job_request_data': job_params,\n",
    "}\n",
    "\n",
    "r = requests.post('http://localhost:8000/execute-job', json=params)\n",
    "r.json()"
   ]
  },
  {
   "cell_type": "code",
   "execution_count": null,
   "metadata": {},
   "outputs": [],
   "source": []
  }
 ],
 "metadata": {
  "kernelspec": {
   "display_name": "templates",
   "language": "python",
   "name": "python3"
  },
  "language_info": {
   "codemirror_mode": {
    "name": "ipython",
    "version": 3
   },
   "file_extension": ".py",
   "mimetype": "text/x-python",
   "name": "python",
   "nbconvert_exporter": "python",
   "pygments_lexer": "ipython3",
   "version": "3.10.13"
  },
  "orig_nbformat": 4
 },
 "nbformat": 4,
 "nbformat_minor": 2
}
