{
 "cells": [
  {
   "cell_type": "code",
   "execution_count": 30,
   "metadata": {},
   "outputs": [],
   "source": [
    "import requests"
   ]
  },
  {
   "cell_type": "markdown",
   "metadata": {},
   "source": [
    "### Try executing template1"
   ]
  },
  {
   "cell_type": "code",
   "execution_count": 31,
   "metadata": {},
   "outputs": [
    {
     "data": {
      "text/plain": [
       "{'task_id': '8784b5c2-9242-42f2-b22d-fb6a9a3791e9'}"
      ]
     },
     "execution_count": 31,
     "metadata": {},
     "output_type": "execute_result"
    }
   ],
   "source": [
    "job_params = {\n",
    "    'name': 'value',\n",
    "    'description': 'value',\n",
    "    'param1': 20,\n",
    "    'param2': 10,\n",
    "}\n",
    "\n",
    "params = {\n",
    "    'template_name': 'hello-world-1',\n",
    "    'template_args': job_params,\n",
    "}\n",
    "\n",
    "r = requests.post('http://localhost:8000/execute-job', json=params)\n",
    "r.json()"
   ]
  },
  {
   "cell_type": "markdown",
   "metadata": {},
   "source": [
    "### Try executing template2"
   ]
  },
  {
   "cell_type": "code",
   "execution_count": 32,
   "metadata": {},
   "outputs": [
    {
     "data": {
      "text/plain": [
       "{'task_id': '90d789fb-5c18-48c4-a8ce-80a708d877ca'}"
      ]
     },
     "execution_count": 32,
     "metadata": {},
     "output_type": "execute_result"
    }
   ],
   "source": [
    "job_params = {\n",
    "    'name': 'value',\n",
    "    'description': 'value',\n",
    "    'param1': 20,\n",
    "    'param2': 10,\n",
    "}\n",
    "\n",
    "params = {\n",
    "    'template_name': 'hello-world-2',\n",
    "    'template_args': job_params,\n",
    "}\n",
    "\n",
    "r = requests.post('http://localhost:8000/execute-job', json=params)\n",
    "r.json()"
   ]
  },
  {
   "cell_type": "markdown",
   "metadata": {},
   "source": [
    "### Research Assistant"
   ]
  },
  {
   "cell_type": "code",
   "execution_count": 33,
   "metadata": {},
   "outputs": [
    {
     "data": {
      "text/plain": [
       "{'task_id': '158e2164-6c0b-45bb-a87b-ed7f1fd06fdb'}"
      ]
     },
     "execution_count": 33,
     "metadata": {},
     "output_type": "execute_result"
    }
   ],
   "source": [
    "job_params = {\n",
    "    'question': 'What is the meaning of life?',\n",
    "}\n",
    "\n",
    "params = {\n",
    "    'template_name': 'research-assistant',\n",
    "    'template_args': job_params,\n",
    "}\n",
    "\n",
    "r = requests.post('http://localhost:8000/execute-job', json=params)\n",
    "r.json()"
   ]
  },
  {
   "cell_type": "markdown",
   "metadata": {},
   "source": [
    "### Skeleton of thought"
   ]
  },
  {
   "cell_type": "code",
   "execution_count": 36,
   "metadata": {},
   "outputs": [
    {
     "data": {
      "text/plain": [
       "{'task_id': 'd3c79bc5-e523-43b7-8c48-702546b3c2b0'}"
      ]
     },
     "execution_count": 36,
     "metadata": {},
     "output_type": "execute_result"
    }
   ],
   "source": [
    "job_params = {\n",
    "    'question': 'What is the meaning of life?',\n",
    "}\n",
    "\n",
    "params = {\n",
    "    'template_name': 'skeleton-of-thought',\n",
    "    'template_args': job_params,\n",
    "}\n",
    "\n",
    "r = requests.post('http://localhost:8000/execute-job', json=params)\n",
    "r.json()"
   ]
  },
  {
   "cell_type": "code",
   "execution_count": null,
   "metadata": {},
   "outputs": [],
   "source": []
  }
 ],
 "metadata": {
  "kernelspec": {
   "display_name": "templates",
   "language": "python",
   "name": "python3"
  },
  "language_info": {
   "codemirror_mode": {
    "name": "ipython",
    "version": 3
   },
   "file_extension": ".py",
   "mimetype": "text/x-python",
   "name": "python",
   "nbconvert_exporter": "python",
   "pygments_lexer": "ipython3",
   "version": "3.10.13"
  },
  "orig_nbformat": 4
 },
 "nbformat": 4,
 "nbformat_minor": 2
}
